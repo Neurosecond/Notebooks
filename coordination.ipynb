{
 "cells": [
  {
   "cell_type": "markdown",
   "metadata": {},
   "source": [
    "# Coordination notebook"
   ]
  },
  {
   "cell_type": "markdown",
   "metadata": {},
   "source": [
    "Импортируем в скрипт модуль NumPy для работы с многомерными массивами чисел"
   ]
  },
  {
   "cell_type": "code",
   "execution_count": 23,
   "metadata": {},
   "outputs": [],
   "source": [
    "import numpy as np"
   ]
  },
  {
   "cell_type": "markdown",
   "metadata": {},
   "source": [
    "Создаем массив координат точки в исходном пространстве"
   ]
  },
  {
   "cell_type": "code",
   "execution_count": 24,
   "metadata": {},
   "outputs": [],
   "source": [
    "initial_point_coords = np.array([1, 2, 3])"
   ]
  },
  {
   "cell_type": "markdown",
   "metadata": {},
   "source": [
    "В соответствии с формулой поворота вектора [x',y',z'] = [x,y,z] Ry, где Ry - матрица поворота по оси Y\n",
    "См. Л. Аммерал. Принципы программирования в машинной графике. Пер. с англ. — М.: \"Сол Систем\", 1992. — 224 с.\n",
    "Создаем матрицу Ry"
   ]
  },
  {
   "cell_type": "code",
   "execution_count": 25,
   "metadata": {},
   "outputs": [
    {
     "name": "stdout",
     "output_type": "stream",
     "text": [
      "[[ 0.70710678  0.         -0.70710678]\n",
      " [ 0.          1.          0.        ]\n",
      " [ 0.70710678  0.          0.70710678]]\n"
     ]
    }
   ],
   "source": [
    "rotation_matrix = np.eye(3)\n",
    "rotation_matrix[0, 0] = np.cos(np.pi / 4)\n",
    "rotation_matrix[0, 2] = (-1)*np.sin(np.pi / 4)\n",
    "rotation_matrix[2, 2] = np.cos(np.pi / 4)\n",
    "rotation_matrix[2, 0] = np.sin(np.pi / 4)\n",
    "print(rotation_matrix)"
   ]
  },
  {
   "cell_type": "markdown",
   "metadata": {},
   "source": [
    "Поворачиваем пространство на 45 градусов вокруг оси Y перемножением начальных координат вектора на матрицу поворота"
   ]
  },
  {
   "cell_type": "code",
   "execution_count": 26,
   "metadata": {
    "scrolled": true
   },
   "outputs": [
    {
     "name": "stdout",
     "output_type": "stream",
     "text": [
      "Новые координаты: X:-1.4142135623730954 Y:2.0 Z:2.8284271247461903\n"
     ]
    }
   ],
   "source": [
    "new_x, new_y, new_z = rotation_matrix @ initial_point_coords\n",
    "print(f\"Новые координаты: X:{new_x} Y:{new_y} Z:{new_z}\")"
   ]
  },
  {
   "cell_type": "markdown",
   "metadata": {},
   "source": [
    "Сдвигаем начало координат на вектор [3,2,1]"
   ]
  },
  {
   "cell_type": "code",
   "execution_count": 27,
   "metadata": {},
   "outputs": [
    {
     "name": "stdout",
     "output_type": "stream",
     "text": [
      "Координаты после сдвига: X:1.5857864376269046 Y:4.0 Z:3.8284271247461903\n"
     ]
    }
   ],
   "source": [
    "new_point_coords = rotation_matrix @ initial_point_coords\n",
    "shift_vector = np.array([3, 2, 1])\n",
    "new_point_coords += shift_vector\n",
    "print(f\"Координаты после сдвига: X:{new_point_coords[0]} Y:{new_point_coords[1]} Z:{new_point_coords[2]}\")"
   ]
  }
 ],
 "metadata": {
  "kernelspec": {
   "display_name": "Python 3",
   "language": "python",
   "name": "python3"
  },
  "language_info": {
   "codemirror_mode": {
    "name": "ipython",
    "version": 3
   },
   "file_extension": ".py",
   "mimetype": "text/x-python",
   "name": "python",
   "nbconvert_exporter": "python",
   "pygments_lexer": "ipython3",
   "version": "3.8.3"
  }
 },
 "nbformat": 4,
 "nbformat_minor": 4
}
